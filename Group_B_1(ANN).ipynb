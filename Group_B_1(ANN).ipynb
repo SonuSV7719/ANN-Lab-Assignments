{
  "nbformat": 4,
  "nbformat_minor": 0,
  "metadata": {
    "colab": {
      "provenance": []
    },
    "kernelspec": {
      "name": "python3",
      "display_name": "Python 3"
    },
    "language_info": {
      "name": "python"
    }
  },
  "cells": [
    {
      "cell_type": "markdown",
      "source": [
        "\n",
        "1. Write a python program to show Back Propagation Network for XOR function with Binary Input\n",
        "and Output"
      ],
      "metadata": {
        "id": "ZsNbRInkR1yQ"
      }
    },
    {
      "cell_type": "code",
      "execution_count": 19,
      "metadata": {
        "colab": {
          "base_uri": "https://localhost:8080/"
        },
        "id": "RqSyJajGOdUf",
        "outputId": "81395f32-d07b-45a4-ac9b-3f2473b238a0"
      },
      "outputs": [
        {
          "output_type": "stream",
          "name": "stdout",
          "text": [
            "Predicted Output:\n",
            "[[0.0961913 ]\n",
            " [0.89393519]\n",
            " [0.89410922]\n",
            " [0.08557778]]\n"
          ]
        }
      ],
      "source": [
        "import numpy as np\n",
        "\n",
        "#Activation sigmoid\n",
        "def sigmoid(x):\n",
        "    return 1 / (1 + np.exp(-x))\n",
        "\n",
        "#Derivative of sigmoid\n",
        "def sigmoid_derivative(x):\n",
        "    return x * (1 - x)\n",
        "\n",
        "X = np.array([[0, 0], [0, 1], [1, 0], [1, 1]])\n",
        "y = np.array([[0], [1], [1], [0]])\n",
        "\n",
        "np.random.seed(42)\n",
        "\n",
        "input_dim = 2\n",
        "hidden_dim = 2\n",
        "output_dim = 1\n",
        "\n",
        "weights_input_hidden = 2 * np.random.random((input_dim, hidden_dim)) - 1\n",
        "weights_hidden_output = 2 * np.random.random((hidden_dim, output_dim)) - 1\n",
        "\n",
        "biases_hidden = np.zeros((1, hidden_dim))\n",
        "biases_output = np.zeros((1, output_dim))\n",
        "\n",
        "learning_rate = 0.1\n",
        "num_epochs = 10000\n",
        "\n",
        "for epoch in range(num_epochs):\n",
        "    # Forward propagation\n",
        "    hidden_layer_input = np.dot(X, weights_input_hidden) + biases_hidden\n",
        "    hidden_layer_activation = sigmoid(hidden_layer_input)\n",
        "\n",
        "    output_layer_input = np.dot(hidden_layer_activation, weights_hidden_output) + biases_output\n",
        "    output_layer_activation = sigmoid(output_layer_input)\n",
        "\n",
        "    # Backpropagation\n",
        "    error = y - output_layer_activation\n",
        "    output_layer_delta = error * sigmoid_derivative(output_layer_activation)\n",
        "\n",
        "    hidden_layer_error = output_layer_delta.dot(weights_hidden_output.T)\n",
        "    hidden_layer_delta = hidden_layer_error * sigmoid_derivative(hidden_layer_activation)\n",
        "\n",
        "    weights_hidden_output += hidden_layer_activation.T.dot(output_layer_delta) * learning_rate\n",
        "    biases_output += np.sum(output_layer_delta, axis=0, keepdims=True) * learning_rate\n",
        "\n",
        "    weights_input_hidden += X.T.dot(hidden_layer_delta) * learning_rate\n",
        "    biases_hidden += np.sum(hidden_layer_delta, axis=0, keepdims=True) * learning_rate\n",
        "\n",
        "test_input = np.array([[0, 0], [0, 1], [1, 0], [1, 1]])\n",
        "hidden_layer_output = sigmoid(np.dot(test_input, weights_input_hidden) + biases_hidden)\n",
        "predicted_output = sigmoid(np.dot(hidden_layer_output, weights_hidden_output) + biases_output)\n",
        "\n",
        "print(\"Predicted Output:\")\n",
        "print(predicted_output)\n"
      ]
    },
    {
      "cell_type": "code",
      "source": [
        "test_input"
      ],
      "metadata": {
        "colab": {
          "base_uri": "https://localhost:8080/"
        },
        "id": "xA_iVV7EQuv8",
        "outputId": "e7d2d8e4-39b6-4140-d0c7-adc9d910e905"
      },
      "execution_count": 20,
      "outputs": [
        {
          "output_type": "execute_result",
          "data": {
            "text/plain": [
              "array([[0, 0],\n",
              "       [0, 1],\n",
              "       [1, 0],\n",
              "       [1, 1]])"
            ]
          },
          "metadata": {},
          "execution_count": 20
        }
      ]
    },
    {
      "cell_type": "code",
      "source": [
        "y"
      ],
      "metadata": {
        "colab": {
          "base_uri": "https://localhost:8080/"
        },
        "id": "XFTr9xv-RQP5",
        "outputId": "147e4290-ea9c-40d1-b866-4226277557d3"
      },
      "execution_count": 21,
      "outputs": [
        {
          "output_type": "execute_result",
          "data": {
            "text/plain": [
              "array([[0],\n",
              "       [1],\n",
              "       [1],\n",
              "       [0]])"
            ]
          },
          "metadata": {},
          "execution_count": 21
        }
      ]
    },
    {
      "cell_type": "code",
      "source": [
        "final_preditions = [1 if predict >= 0.5 else 0 for predict in predicted_output]"
      ],
      "metadata": {
        "id": "nKlbZ8J9PupK"
      },
      "execution_count": 8,
      "outputs": []
    },
    {
      "cell_type": "markdown",
      "source": [],
      "metadata": {
        "id": "dsrHvuffQanI"
      }
    },
    {
      "cell_type": "code",
      "source": [
        "final_preditions"
      ],
      "metadata": {
        "colab": {
          "base_uri": "https://localhost:8080/"
        },
        "id": "VzDqXV-bQTQq",
        "outputId": "841ecad4-39fe-4190-ff67-ce34b7d046de"
      },
      "execution_count": 9,
      "outputs": [
        {
          "output_type": "execute_result",
          "data": {
            "text/plain": [
              "[0, 1, 1, 0]"
            ]
          },
          "metadata": {},
          "execution_count": 9
        }
      ]
    }
  ]
}