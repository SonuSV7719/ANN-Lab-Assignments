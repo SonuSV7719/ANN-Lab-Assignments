{
  "nbformat": 4,
  "nbformat_minor": 0,
  "metadata": {
    "colab": {
      "provenance": []
    },
    "kernelspec": {
      "name": "python3",
      "display_name": "Python 3"
    },
    "language_info": {
      "name": "python"
    }
  },
  "cells": [
    {
      "cell_type": "markdown",
      "source": [
        "A.5)Write a python Program for Bidirectional Associative Memory with two pairs of vectors."
      ],
      "metadata": {
        "id": "Ot0H2mt-C8My"
      }
    },
    {
      "cell_type": "code",
      "execution_count": 8,
      "metadata": {
        "colab": {
          "base_uri": "https://localhost:8080/"
        },
        "id": "XvFzbPnEAITi",
        "outputId": "454d83f3-8cdd-4ffd-8ed8-19be996b60b0"
      },
      "outputs": [
        {
          "output_type": "stream",
          "name": "stdout",
          "text": [
            "Input: [1, -1, 1, -1]\n",
            "Recalled Output: [1 1]\n",
            "\n",
            "Input: [1, 1, -1, -1]\n",
            "Recalled Output: [ 1 -1]\n",
            "\n"
          ]
        }
      ],
      "source": [
        "import numpy as np\n",
        "\n",
        "class BAM:\n",
        "    def __init__(self):\n",
        "        self.weights = None\n",
        "\n",
        "    def train(self, X, Y):\n",
        "        X = np.array(X)\n",
        "        Y = np.array(Y)\n",
        "        self.weights = np.dot(Y.T, X)\n",
        "\n",
        "    def recall(self, X):\n",
        "        X = np.array(X)\n",
        "        Y = np.dot(X, self.weights.T)\n",
        "        Y[Y >= 0] = 1\n",
        "        Y[Y < 0] = -1\n",
        "        return Y\n",
        "\n",
        "if __name__ == '__main__':\n",
        "    bam = BAM()\n",
        "\n",
        "    X = [[1, 1, -1, -1],\n",
        "         [-1, -1, 1, 1]]\n",
        "    Y = [[1, -1],\n",
        "         [-1, 1]]\n",
        "\n",
        "    bam.train(X, Y)\n",
        "\n",
        "    test_X = [[1, -1, 1, -1],\n",
        "              [1, 1, -1, -1]]\n",
        "\n",
        "    for x in test_X:\n",
        "        recalled_Y = bam.recall(x)\n",
        "        print(f\"Input: {x}\")\n",
        "        print(f\"Recalled Output: {recalled_Y}\\n\")\n"
      ]
    }
  ]
}