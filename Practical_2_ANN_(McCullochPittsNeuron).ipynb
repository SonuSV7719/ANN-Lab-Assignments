{
  "nbformat": 4,
  "nbformat_minor": 0,
  "metadata": {
    "colab": {
      "provenance": []
    },
    "kernelspec": {
      "name": "python3",
      "display_name": "Python 3"
    },
    "language_info": {
      "name": "python"
    }
  },
  "cells": [
    {
      "cell_type": "code",
      "execution_count": null,
      "metadata": {
        "id": "ne74kwv8ykSU"
      },
      "outputs": [],
      "source": [
        "import numpy as np"
      ]
    },
    {
      "cell_type": "code",
      "source": [
        "class McCullochPittsNeuron():\n",
        "  def __init__(self, threshold, weights):\n",
        "    self.threshold = threshold\n",
        "    self.weights = weights\n",
        "    self.output = []\n",
        "\n",
        "  def andNot(self, inputs):\n",
        "    for inputXY in inputs:\n",
        "      self.weightedSum = self.weights[0]*inputXY[0] + self.weights[1]*inputXY[1]\n",
        "      if self.weightedSum >= self.threshold:\n",
        "        self.output.append(1)\n",
        "      else:\n",
        "        self.output.append(0)\n",
        "    return self.output"
      ],
      "metadata": {
        "id": "8vxsBF2jzINt"
      },
      "execution_count": 4,
      "outputs": []
    },
    {
      "cell_type": "code",
      "source": [
        "mcpn = McCullochPittsNeuron(1, [1, -1])\n",
        "output = mcpn.andNot([(0,0), (0,1), (1, 0), (1, 1)])\n",
        "print(\"Output of McCulloch Pitts Neuron\",output)"
      ],
      "metadata": {
        "colab": {
          "base_uri": "https://localhost:8080/"
        },
        "id": "cY5l0Xg23r78",
        "outputId": "7d1b6894-7805-4cff-e86d-7080f4e90763"
      },
      "execution_count": 6,
      "outputs": [
        {
          "output_type": "stream",
          "name": "stdout",
          "text": [
            "Output of McCulloch Pitts Neuron [0, 0, 1, 0]\n"
          ]
        }
      ]
    },
    {
      "cell_type": "code",
      "source": [],
      "metadata": {
        "id": "xNPO_wSf4a2N"
      },
      "execution_count": null,
      "outputs": []
    }
  ]
}