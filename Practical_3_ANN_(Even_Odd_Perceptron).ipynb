{
  "nbformat": 4,
  "nbformat_minor": 0,
  "metadata": {
    "colab": {
      "provenance": []
    },
    "kernelspec": {
      "name": "python3",
      "display_name": "Python 3"
    },
    "language_info": {
      "name": "python"
    }
  },
  "cells": [
    {
      "cell_type": "markdown",
      "source": [
        "Write a Python Program using Perceptron Neural Network to recognise even and odd numbers.\n",
        "Given numbers are in ASCII form 0 to 9\n"
      ],
      "metadata": {
        "id": "wSMYa1rfURuG"
      }
    },
    {
      "cell_type": "code",
      "execution_count": null,
      "metadata": {
        "id": "bPo6QfObUOhM"
      },
      "outputs": [],
      "source": [
        "import matplotlib.pyplot as plt\n",
        "import pandas as pd\n",
        "import numpy as np\n",
        "import seaborn as sns"
      ]
    },
    {
      "cell_type": "code",
      "source": [
        "data = {\"Numberes\" : [1,3,5,4,2,9,7,6,8], \"Tag\" : [0,0,0, 1,1,0,0,1,1]}\n",
        "df = pd.DataFrame(data)"
      ],
      "metadata": {
        "id": "uaJpFIJ0UeRA"
      },
      "execution_count": null,
      "outputs": []
    },
    {
      "cell_type": "code",
      "source": [
        "df"
      ],
      "metadata": {
        "colab": {
          "base_uri": "https://localhost:8080/",
          "height": 332
        },
        "id": "tKWrOjMcVhyz",
        "outputId": "c8f387d9-947e-4680-f312-624f3779d6ab"
      },
      "execution_count": null,
      "outputs": [
        {
          "output_type": "execute_result",
          "data": {
            "text/plain": [
              "   Numberes  Tag\n",
              "0         1    0\n",
              "1         3    0\n",
              "2         5    0\n",
              "3         4    1\n",
              "4         2    1\n",
              "5         9    0\n",
              "6         7    0\n",
              "7         6    1\n",
              "8         8    1"
            ],
            "text/html": [
              "\n",
              "  <div id=\"df-30343ca6-0c0c-497d-bc65-e39927868bf1\">\n",
              "    <div class=\"colab-df-container\">\n",
              "      <div>\n",
              "<style scoped>\n",
              "    .dataframe tbody tr th:only-of-type {\n",
              "        vertical-align: middle;\n",
              "    }\n",
              "\n",
              "    .dataframe tbody tr th {\n",
              "        vertical-align: top;\n",
              "    }\n",
              "\n",
              "    .dataframe thead th {\n",
              "        text-align: right;\n",
              "    }\n",
              "</style>\n",
              "<table border=\"1\" class=\"dataframe\">\n",
              "  <thead>\n",
              "    <tr style=\"text-align: right;\">\n",
              "      <th></th>\n",
              "      <th>Numberes</th>\n",
              "      <th>Tag</th>\n",
              "    </tr>\n",
              "  </thead>\n",
              "  <tbody>\n",
              "    <tr>\n",
              "      <th>0</th>\n",
              "      <td>1</td>\n",
              "      <td>0</td>\n",
              "    </tr>\n",
              "    <tr>\n",
              "      <th>1</th>\n",
              "      <td>3</td>\n",
              "      <td>0</td>\n",
              "    </tr>\n",
              "    <tr>\n",
              "      <th>2</th>\n",
              "      <td>5</td>\n",
              "      <td>0</td>\n",
              "    </tr>\n",
              "    <tr>\n",
              "      <th>3</th>\n",
              "      <td>4</td>\n",
              "      <td>1</td>\n",
              "    </tr>\n",
              "    <tr>\n",
              "      <th>4</th>\n",
              "      <td>2</td>\n",
              "      <td>1</td>\n",
              "    </tr>\n",
              "    <tr>\n",
              "      <th>5</th>\n",
              "      <td>9</td>\n",
              "      <td>0</td>\n",
              "    </tr>\n",
              "    <tr>\n",
              "      <th>6</th>\n",
              "      <td>7</td>\n",
              "      <td>0</td>\n",
              "    </tr>\n",
              "    <tr>\n",
              "      <th>7</th>\n",
              "      <td>6</td>\n",
              "      <td>1</td>\n",
              "    </tr>\n",
              "    <tr>\n",
              "      <th>8</th>\n",
              "      <td>8</td>\n",
              "      <td>1</td>\n",
              "    </tr>\n",
              "  </tbody>\n",
              "</table>\n",
              "</div>\n",
              "      <button class=\"colab-df-convert\" onclick=\"convertToInteractive('df-30343ca6-0c0c-497d-bc65-e39927868bf1')\"\n",
              "              title=\"Convert this dataframe to an interactive table.\"\n",
              "              style=\"display:none;\">\n",
              "        \n",
              "  <svg xmlns=\"http://www.w3.org/2000/svg\" height=\"24px\"viewBox=\"0 0 24 24\"\n",
              "       width=\"24px\">\n",
              "    <path d=\"M0 0h24v24H0V0z\" fill=\"none\"/>\n",
              "    <path d=\"M18.56 5.44l.94 2.06.94-2.06 2.06-.94-2.06-.94-.94-2.06-.94 2.06-2.06.94zm-11 1L8.5 8.5l.94-2.06 2.06-.94-2.06-.94L8.5 2.5l-.94 2.06-2.06.94zm10 10l.94 2.06.94-2.06 2.06-.94-2.06-.94-.94-2.06-.94 2.06-2.06.94z\"/><path d=\"M17.41 7.96l-1.37-1.37c-.4-.4-.92-.59-1.43-.59-.52 0-1.04.2-1.43.59L10.3 9.45l-7.72 7.72c-.78.78-.78 2.05 0 2.83L4 21.41c.39.39.9.59 1.41.59.51 0 1.02-.2 1.41-.59l7.78-7.78 2.81-2.81c.8-.78.8-2.07 0-2.86zM5.41 20L4 18.59l7.72-7.72 1.47 1.35L5.41 20z\"/>\n",
              "  </svg>\n",
              "      </button>\n",
              "      \n",
              "  <style>\n",
              "    .colab-df-container {\n",
              "      display:flex;\n",
              "      flex-wrap:wrap;\n",
              "      gap: 12px;\n",
              "    }\n",
              "\n",
              "    .colab-df-convert {\n",
              "      background-color: #E8F0FE;\n",
              "      border: none;\n",
              "      border-radius: 50%;\n",
              "      cursor: pointer;\n",
              "      display: none;\n",
              "      fill: #1967D2;\n",
              "      height: 32px;\n",
              "      padding: 0 0 0 0;\n",
              "      width: 32px;\n",
              "    }\n",
              "\n",
              "    .colab-df-convert:hover {\n",
              "      background-color: #E2EBFA;\n",
              "      box-shadow: 0px 1px 2px rgba(60, 64, 67, 0.3), 0px 1px 3px 1px rgba(60, 64, 67, 0.15);\n",
              "      fill: #174EA6;\n",
              "    }\n",
              "\n",
              "    [theme=dark] .colab-df-convert {\n",
              "      background-color: #3B4455;\n",
              "      fill: #D2E3FC;\n",
              "    }\n",
              "\n",
              "    [theme=dark] .colab-df-convert:hover {\n",
              "      background-color: #434B5C;\n",
              "      box-shadow: 0px 1px 3px 1px rgba(0, 0, 0, 0.15);\n",
              "      filter: drop-shadow(0px 1px 2px rgba(0, 0, 0, 0.3));\n",
              "      fill: #FFFFFF;\n",
              "    }\n",
              "  </style>\n",
              "\n",
              "      <script>\n",
              "        const buttonEl =\n",
              "          document.querySelector('#df-30343ca6-0c0c-497d-bc65-e39927868bf1 button.colab-df-convert');\n",
              "        buttonEl.style.display =\n",
              "          google.colab.kernel.accessAllowed ? 'block' : 'none';\n",
              "\n",
              "        async function convertToInteractive(key) {\n",
              "          const element = document.querySelector('#df-30343ca6-0c0c-497d-bc65-e39927868bf1');\n",
              "          const dataTable =\n",
              "            await google.colab.kernel.invokeFunction('convertToInteractive',\n",
              "                                                     [key], {});\n",
              "          if (!dataTable) return;\n",
              "\n",
              "          const docLinkHtml = 'Like what you see? Visit the ' +\n",
              "            '<a target=\"_blank\" href=https://colab.research.google.com/notebooks/data_table.ipynb>data table notebook</a>'\n",
              "            + ' to learn more about interactive tables.';\n",
              "          element.innerHTML = '';\n",
              "          dataTable['output_type'] = 'display_data';\n",
              "          await google.colab.output.renderOutput(dataTable, element);\n",
              "          const docLink = document.createElement('div');\n",
              "          docLink.innerHTML = docLinkHtml;\n",
              "          element.appendChild(docLink);\n",
              "        }\n",
              "      </script>\n",
              "    </div>\n",
              "  </div>\n",
              "  "
            ]
          },
          "metadata": {},
          "execution_count": 6
        }
      ]
    },
    {
      "cell_type": "code",
      "source": [
        "x = df[\"Numberes\"]\n",
        "y = df[\"Tag\"]"
      ],
      "metadata": {
        "id": "HSMN88j1Xyvz"
      },
      "execution_count": null,
      "outputs": []
    },
    {
      "cell_type": "code",
      "source": [
        "sns.scatterplot(x=df[\"Numberes\"],y=y, hue=y)\n",
        "plt.plot([0.5 for _ in df[\"Tag\"] ])"
      ],
      "metadata": {
        "colab": {
          "base_uri": "https://localhost:8080/",
          "height": 466
        },
        "id": "lYqr0XEmVl4T",
        "outputId": "955fb664-8cf0-4464-f4a2-92903eef6202"
      },
      "execution_count": null,
      "outputs": [
        {
          "output_type": "execute_result",
          "data": {
            "text/plain": [
              "[<matplotlib.lines.Line2D at 0x7f3457dc1ac0>]"
            ]
          },
          "metadata": {},
          "execution_count": 33
        },
        {
          "output_type": "display_data",
          "data": {
            "text/plain": [
              "<Figure size 640x480 with 1 Axes>"
            ],
            "image/png": "[encoded data removed]"
          },
          "metadata": {}
        }
      ]
    },
    {
      "cell_type": "code",
      "source": [
        "2 * np.random.random((10, 1)) - 1"
      ],
      "metadata": {
        "colab": {
          "base_uri": "https://localhost:8080/"
        },
        "id": "wmS5p6JnV-I5",
        "outputId": "837f91ea-3a2f-42d8-f8ae-57e7a95c6a2e"
      },
      "execution_count": null,
      "outputs": [
        {
          "output_type": "execute_result",
          "data": {
            "text/plain": [
              "array([[-0.35812149],\n",
              "       [ 0.47412758],\n",
              "       [ 0.62511668],\n",
              "       [-0.89430268],\n",
              "       [ 0.32154228],\n",
              "       [ 0.08212657],\n",
              "       [ 0.4911432 ],\n",
              "       [ 0.7819753 ],\n",
              "       [ 0.92660091],\n",
              "       [ 0.62252329]])"
            ]
          },
          "metadata": {},
          "execution_count": 34
        }
      ]
    },
    {
      "cell_type": "code",
      "source": [],
      "metadata": {
        "colab": {
          "base_uri": "https://localhost:8080/"
        },
        "id": "R3oW-4EudEhn",
        "outputId": "6f18b679-e66b-45cf-9c24-af5c56111084"
      },
      "execution_count": null,
      "outputs": [
        {
          "output_type": "execute_result",
          "data": {
            "text/plain": [
              "array([[ 0.2082653 ],\n",
              "       [-0.74252417],\n",
              "       [-0.77242322],\n",
              "       [-0.86954873],\n",
              "       [ 0.33953798],\n",
              "       [ 0.74940269],\n",
              "       [-0.29060187],\n",
              "       [-0.72214394],\n",
              "       [-0.49388729],\n",
              "       [-0.09347683]])"
            ]
          },
          "metadata": {},
          "execution_count": 40
        }
      ]
    },
    {
      "cell_type": "code",
      "source": [
        "int(bin(2)[2:])"
      ],
      "metadata": {
        "colab": {
          "base_uri": "https://localhost:8080/"
        },
        "id": "zdrAOjvXd3vo",
        "outputId": "402bdc23-9667-4f49-ade8-44cccc108c50"
      },
      "execution_count": null,
      "outputs": [
        {
          "output_type": "execute_result",
          "data": {
            "text/plain": [
              "10"
            ]
          },
          "metadata": {},
          "execution_count": 64
        }
      ]
    },
    {
      "cell_type": "code",
      "source": [
        "a = [np.random.choice([0,1]) for _ in range(4)]\n",
        "a"
      ],
      "metadata": {
        "colab": {
          "base_uri": "https://localhost:8080/"
        },
        "id": "DE4cyVwAdeHd",
        "outputId": "ec41ec22-9bf7-4142-b6b4-04251ae1fc2c"
      },
      "execution_count": null,
      "outputs": [
        {
          "output_type": "execute_result",
          "data": {
            "text/plain": [
              "[0, 1, 0, 1]"
            ]
          },
          "metadata": {},
          "execution_count": 53
        }
      ]
    },
    {
      "cell_type": "code",
      "source": [
        "1 if 8>0 else 0"
      ],
      "metadata": {
        "colab": {
          "base_uri": "https://localhost:8080/"
        },
        "id": "64PpSpoJeyhs",
        "outputId": "1bb02453-bee9-45fc-f3f5-16711b14462d"
      },
      "execution_count": null,
      "outputs": [
        {
          "output_type": "execute_result",
          "data": {
            "text/plain": [
              "1"
            ]
          },
          "metadata": {},
          "execution_count": 59
        }
      ]
    },
    {
      "cell_type": "code",
      "source": [
        "np.ones(4)"
      ],
      "metadata": {
        "colab": {
          "base_uri": "https://localhost:8080/"
        },
        "id": "HrEenFHyiSxR",
        "outputId": "71d1ad2a-1cb7-4a99-ad82-6728bcb2dd10"
      },
      "execution_count": null,
      "outputs": [
        {
          "output_type": "execute_result",
          "data": {
            "text/plain": [
              "array([1., 1., 1., 1.])"
            ]
          },
          "metadata": {},
          "execution_count": 56
        }
      ]
    },
    {
      "cell_type": "code",
      "source": [
        "a = 2 + np.dot([1,2, 4], [2, 2,2])\n",
        "a"
      ],
      "metadata": {
        "colab": {
          "base_uri": "https://localhost:8080/"
        },
        "id": "PQBM8lCWw9Vc",
        "outputId": "51ecf21b-34cf-4eb5-baf5-80d780e00283"
      },
      "execution_count": 72,
      "outputs": [
        {
          "output_type": "execute_result",
          "data": {
            "text/plain": [
              "16"
            ]
          },
          "metadata": {},
          "execution_count": 72
        }
      ]
    },
    {
      "cell_type": "markdown",
      "source": [
        "#Class for binary input"
      ],
      "metadata": {
        "id": "K3zdyKzGF6Kf"
      }
    },
    {
      "cell_type": "code",
      "source": [
        "class Perceptron():\n",
        "  def __init__(self, epochs, lr, input_size):\n",
        "    self.weight = np.ones(input_size)\n",
        "    self.epochs = epochs\n",
        "    self.lr = lr\n",
        "    self.bias = 0.0\n",
        "\n",
        "  def predict(self, x_test):\n",
        "    a = self.bias\n",
        "    for i in range(len(x_test)):\n",
        "      a += self.weight[i] * x_test[i]\n",
        "    return 1 if a>=0 else 0\n",
        "\n",
        "  def train(self, train_data):\n",
        "    for i in range(self.epochs):\n",
        "      for x_train, y_train in train_data:\n",
        "        predicted = self.predict(x_train)\n",
        "        error = y_train - predicted\n",
        "        self.bias += self.lr * error\n",
        "        for j in range(len(self.weight)):\n",
        "          self.weight[j] += self.lr * error * x_train[j]\n",
        "\n"
      ],
      "metadata": {
        "id": "c8oD9HjLcPSv"
      },
      "execution_count": 77,
      "outputs": []
    },
    {
      "cell_type": "code",
      "source": [
        "perceptron = Perceptron(1000, 0.001, 8)"
      ],
      "metadata": {
        "id": "HXmEoVhVcxer"
      },
      "execution_count": 88,
      "outputs": []
    },
    {
      "cell_type": "code",
      "source": [
        "perceptron.train([([0,0,0,0,0,0,0,1], 0), ([0,0,0,0,0,0,1,0], 1), ([0,0,0,0,0,0,1,1], 0), ([0,0,0,0,0,1,0,0], 1), ([0,0,0,0,0,1,0,1], 0), ([0,0,0,0,0,1,1,0], 1), ([0,0,0,0,0,1,1,1], 0), ([0,0,0,0,1,0,0,0], 1), ([0,0,0,0,1,0,0,1], 0), ([0,0,0,0,1,0,1,0], 1), ([0,0,0,0,1,0,1,1], 0)])"
      ],
      "metadata": {
        "id": "xRMLuortm8-k"
      },
      "execution_count": 103,
      "outputs": []
    },
    {
      "cell_type": "code",
      "source": [
        "predictA = [ perceptron.predict(X_test) for X_test, i in [([0,0,0,0,0,0,0,1], 0), ([0,0,0,0,0,0,1,0], 1), ([0,0,0,0,0,0,1,1], 0), ([0,0,0,0,0,1,0,0], 1), ([0,0,0,0,0,1,0,1], 0), ([0,0,0,0,0,1,1,0], 1), ([0,0,0,0,0,1,1,1], 0), ([0,0,0,0,1,0,0,0], 1), ([0,0,0,0,1,0,0,1], 0), ([0,0,0,0,1,0,1,0], 1), ([0,0,0,0,1,0,1,1], 0)]]"
      ],
      "metadata": {
        "id": "JZ60uf_nnmN9"
      },
      "execution_count": 104,
      "outputs": []
    },
    {
      "cell_type": "code",
      "source": [
        "perceptron.predict()"
      ],
      "metadata": {
        "colab": {
          "base_uri": "https://localhost:8080/"
        },
        "id": "byTj3PyJ3hAy",
        "outputId": "d96f5f88-f2cd-4e98-e33e-968af4a90f02"
      },
      "execution_count": 113,
      "outputs": [
        {
          "output_type": "execute_result",
          "data": {
            "text/plain": [
              "1"
            ]
          },
          "metadata": {},
          "execution_count": 113
        }
      ]
    },
    {
      "cell_type": "code",
      "source": [
        "sns.scatterplot(x = [1, 2, 3, 4,5 ,6,7,8,9], y =[0, 1, 0, 1, 0, 1, 0, 1, 0])\n",
        "plt.plot(predictA)"
      ],
      "metadata": {
        "colab": {
          "base_uri": "https://localhost:8080/",
          "height": 447
        },
        "id": "DxVUzI8E5DCg",
        "outputId": "956b8c06-aadf-46f3-d572-d060d612421f"
      },
      "execution_count": 106,
      "outputs": [
        {
          "output_type": "execute_result",
          "data": {
            "text/plain": [
              "[<matplotlib.lines.Line2D at 0x7f34580cc820>]"
            ]
          },
          "metadata": {},
          "execution_count": 106
        },
        {
          "output_type": "display_data",
          "data": {
            "text/plain": [
              "<Figure size 640x480 with 1 Axes>"
            ],
            "image/png": "[encoded data removed]"
          },
          "metadata": {}
        }
      ]
    },
    {
      "cell_type": "code",
      "source": [
        "a = [int(i) for i in bin(21)[2:]]\n",
        "A = [0 for _ in range(8-len(a)) ] + a\n",
        "A"
      ],
      "metadata": {
        "colab": {
          "base_uri": "https://localhost:8080/"
        },
        "id": "_6VxupgM8wVx",
        "outputId": "eff09146-4c4e-411b-ca47-38631aee90ca"
      },
      "execution_count": 119,
      "outputs": [
        {
          "output_type": "execute_result",
          "data": {
            "text/plain": [
              "[0, 0, 0, 1, 0, 1, 0, 1]"
            ]
          },
          "metadata": {},
          "execution_count": 119
        }
      ]
    },
    {
      "cell_type": "markdown",
      "source": [
        "#Class For ASCII Input"
      ],
      "metadata": {
        "id": "I5UzudtsGCAY"
      }
    },
    {
      "cell_type": "code",
      "source": [
        "class Perceptron():\n",
        "  def __init__(self, epochs, lr, input_size):\n",
        "    self.weight = np.ones(input_size)\n",
        "    self.epochs = epochs\n",
        "    self.lr = lr\n",
        "    self.bias = 0.0\n",
        "  \n",
        "  def predict(self, x_test):\n",
        "    a = self.bias\n",
        "    x_test = self.binary(x_test)\n",
        "    for i in range(len(x_test)):\n",
        "      a += self.weight[i] * x_test[i]\n",
        "    return 1 if a>=0 else 0\n",
        "\n",
        "  def binary(self, x):\n",
        "    a = [int(i) for i in bin(x)[2:]]\n",
        "    A = [0 for _ in range(8-len(a)) ] + a\n",
        "    return A\n",
        "\n",
        "  def train(self, train_data):\n",
        "    for i in range(self.epochs):\n",
        "      for x_train, y_train in train_data:\n",
        "        # print(x_train)\n",
        "        # print(x_train)\n",
        "        predicted = self.predict(x_train)\n",
        "        error = y_train - predicted\n",
        "        x_train = self.binary(x_train)\n",
        "        self.bias += self.lr * error\n",
        "        for j in range(len(self.weight)):\n",
        "          self.weight[j] += self.lr * error * x_train[j]\n",
        "\n"
      ],
      "metadata": {
        "id": "Ys_1GORu5abX"
      },
      "execution_count": 149,
      "outputs": []
    },
    {
      "cell_type": "code",
      "source": [
        "p = Perceptron(1000, 0.001, 8)"
      ],
      "metadata": {
        "id": "Qff_eXnP-WHR"
      },
      "execution_count": 150,
      "outputs": []
    },
    {
      "cell_type": "code",
      "source": [
        "x_train = []\n",
        "for i in range(1, 100):\n",
        "  if i % 2 == 0:\n",
        "    x_train.append((i, 1))\n",
        "  else:\n",
        "    x_train.append((i, 0))"
      ],
      "metadata": {
        "id": "0Qx-zEynDTmm"
      },
      "execution_count": 196,
      "outputs": []
    },
    {
      "cell_type": "code",
      "source": [
        "p.train(x_train)"
      ],
      "metadata": {
        "id": "MMR8SFEg-dmf"
      },
      "execution_count": 197,
      "outputs": []
    },
    {
      "cell_type": "code",
      "source": [
        "p.weight\n"
      ],
      "metadata": {
        "colab": {
          "base_uri": "https://localhost:8080/"
        },
        "id": "Bz4ojtRCBaIM",
        "outputId": "cb1c6bda-40d5-457c-a2e1-fa5773c6ff41"
      },
      "execution_count": 198,
      "outputs": [
        {
          "output_type": "execute_result",
          "data": {
            "text/plain": [
              "array([ 0.782,  0.781,  0.288,  0.288,  0.205,  0.183,  0.181, -1.749])"
            ]
          },
          "metadata": {},
          "execution_count": 198
        }
      ]
    },
    {
      "cell_type": "code",
      "source": [
        "p.bias"
      ],
      "metadata": {
        "colab": {
          "base_uri": "https://localhost:8080/"
        },
        "id": "dzPqPJ6mEEQy",
        "outputId": "4674033d-6ba6-4f47-e814-b1df846c4504"
      },
      "execution_count": 199,
      "outputs": [
        {
          "output_type": "execute_result",
          "data": {
            "text/plain": [
              "-0.18000000000000005"
            ]
          },
          "metadata": {},
          "execution_count": 199
        }
      ]
    },
    {
      "cell_type": "code",
      "source": [
        "predictions = [(i, p.predict(i)) for i in range(1, 240)]"
      ],
      "metadata": {
        "id": "u3xXN_XVFHHF"
      },
      "execution_count": 222,
      "outputs": []
    },
    {
      "cell_type": "code",
      "source": [
        "predictions"
      ],
      "metadata": {
        "colab": {
          "base_uri": "https://localhost:8080/"
        },
        "id": "X6_fGpxn-33F",
        "outputId": "764eca50-72cd-4489-837c-b342e5688625"
      },
      "execution_count": 223,
      "outputs": [
        {
          "output_type": "execute_result",
          "data": {
            "text/plain": [
              "[(1, 0),\n",
              " (2, 1),\n",
              " (3, 0),\n",
              " (4, 1),\n",
              " (5, 0),\n",
              " (6, 1),\n",
              " (7, 0),\n",
              " (8, 1),\n",
              " (9, 0),\n",
              " (10, 1),\n",
              " (11, 0),\n",
              " (12, 1),\n",
              " (13, 0),\n",
              " (14, 1),\n",
              " (15, 0),\n",
              " (16, 1),\n",
              " (17, 0),\n",
              " (18, 1),\n",
              " (19, 0),\n",
              " (20, 1),\n",
              " (21, 0),\n",
              " (22, 1),\n",
              " (23, 0),\n",
              " (24, 1),\n",
              " (25, 0),\n",
              " (26, 1),\n",
              " (27, 0),\n",
              " (28, 1),\n",
              " (29, 0),\n",
              " (30, 1),\n",
              " (31, 0),\n",
              " (32, 1),\n",
              " (33, 0),\n",
              " (34, 1),\n",
              " (35, 0),\n",
              " (36, 1),\n",
              " (37, 0),\n",
              " (38, 1),\n",
              " (39, 0),\n",
              " (40, 1),\n",
              " (41, 0),\n",
              " (42, 1),\n",
              " (43, 0),\n",
              " (44, 1),\n",
              " (45, 0),\n",
              " (46, 1),\n",
              " (47, 0),\n",
              " (48, 1),\n",
              " (49, 0),\n",
              " (50, 1),\n",
              " (51, 0),\n",
              " (52, 1),\n",
              " (53, 0),\n",
              " (54, 1),\n",
              " (55, 0),\n",
              " (56, 1),\n",
              " (57, 0),\n",
              " (58, 1),\n",
              " (59, 0),\n",
              " (60, 1),\n",
              " (61, 0),\n",
              " (62, 1),\n",
              " (63, 0),\n",
              " (64, 1),\n",
              " (65, 0),\n",
              " (66, 1),\n",
              " (67, 0),\n",
              " (68, 1),\n",
              " (69, 0),\n",
              " (70, 1),\n",
              " (71, 0),\n",
              " (72, 1),\n",
              " (73, 0),\n",
              " (74, 1),\n",
              " (75, 0),\n",
              " (76, 1),\n",
              " (77, 0),\n",
              " (78, 1),\n",
              " (79, 0),\n",
              " (80, 1),\n",
              " (81, 0),\n",
              " (82, 1),\n",
              " (83, 0),\n",
              " (84, 1),\n",
              " (85, 0),\n",
              " (86, 1),\n",
              " (87, 0),\n",
              " (88, 1),\n",
              " (89, 0),\n",
              " (90, 1),\n",
              " (91, 0),\n",
              " (92, 1),\n",
              " (93, 0),\n",
              " (94, 1),\n",
              " (95, 0),\n",
              " (96, 1),\n",
              " (97, 0),\n",
              " (98, 1),\n",
              " (99, 0),\n",
              " (100, 1),\n",
              " (101, 0),\n",
              " (102, 1),\n",
              " (103, 0),\n",
              " (104, 1),\n",
              " (105, 0),\n",
              " (106, 1),\n",
              " (107, 0),\n",
              " (108, 1),\n",
              " (109, 0),\n",
              " (110, 1),\n",
              " (111, 0),\n",
              " (112, 1),\n",
              " (113, 0),\n",
              " (114, 1),\n",
              " (115, 0),\n",
              " (116, 1),\n",
              " (117, 0),\n",
              " (118, 1),\n",
              " (119, 0),\n",
              " (120, 1),\n",
              " (121, 0),\n",
              " (122, 1),\n",
              " (123, 0),\n",
              " (124, 1),\n",
              " (125, 0),\n",
              " (126, 1),\n",
              " (127, 0),\n",
              " (128, 1),\n",
              " (129, 0),\n",
              " (130, 1),\n",
              " (131, 0),\n",
              " (132, 1),\n",
              " (133, 0),\n",
              " (134, 1),\n",
              " (135, 0),\n",
              " (136, 1),\n",
              " (137, 0),\n",
              " (138, 1),\n",
              " (139, 0),\n",
              " (140, 1),\n",
              " (141, 0),\n",
              " (142, 1),\n",
              " (143, 0),\n",
              " (144, 1),\n",
              " (145, 0),\n",
              " (146, 1),\n",
              " (147, 0),\n",
              " (148, 1),\n",
              " (149, 0),\n",
              " (150, 1),\n",
              " (151, 0),\n",
              " (152, 1),\n",
              " (153, 0),\n",
              " (154, 1),\n",
              " (155, 0),\n",
              " (156, 1),\n",
              " (157, 0),\n",
              " (158, 1),\n",
              " (159, 0),\n",
              " (160, 1),\n",
              " (161, 0),\n",
              " (162, 1),\n",
              " (163, 0),\n",
              " (164, 1),\n",
              " (165, 0),\n",
              " (166, 1),\n",
              " (167, 0),\n",
              " (168, 1),\n",
              " (169, 0),\n",
              " (170, 1),\n",
              " (171, 0),\n",
              " (172, 1),\n",
              " (173, 0),\n",
              " (174, 1),\n",
              " (175, 0),\n",
              " (176, 1),\n",
              " (177, 0),\n",
              " (178, 1),\n",
              " (179, 0),\n",
              " (180, 1),\n",
              " (181, 0),\n",
              " (182, 1),\n",
              " (183, 0),\n",
              " (184, 1),\n",
              " (185, 0),\n",
              " (186, 1),\n",
              " (187, 0),\n",
              " (188, 1),\n",
              " (189, 0),\n",
              " (190, 1),\n",
              " (191, 0),\n",
              " (192, 1),\n",
              " (193, 0),\n",
              " (194, 1),\n",
              " (195, 0),\n",
              " (196, 1),\n",
              " (197, 0),\n",
              " (198, 1),\n",
              " (199, 0),\n",
              " (200, 1),\n",
              " (201, 0),\n",
              " (202, 1),\n",
              " (203, 1),\n",
              " (204, 1),\n",
              " (205, 1),\n",
              " (206, 1),\n",
              " (207, 1),\n",
              " (208, 1),\n",
              " (209, 0),\n",
              " (210, 1),\n",
              " (211, 1),\n",
              " (212, 1),\n",
              " (213, 1),\n",
              " (214, 1),\n",
              " (215, 1),\n",
              " (216, 1),\n",
              " (217, 1),\n",
              " (218, 1),\n",
              " (219, 1),\n",
              " (220, 1),\n",
              " (221, 1),\n",
              " (222, 1),\n",
              " (223, 1),\n",
              " (224, 1),\n",
              " (225, 0),\n",
              " (226, 1),\n",
              " (227, 1),\n",
              " (228, 1),\n",
              " (229, 1),\n",
              " (230, 1),\n",
              " (231, 1),\n",
              " (232, 1),\n",
              " (233, 1),\n",
              " (234, 1),\n",
              " (235, 1),\n",
              " (236, 1),\n",
              " (237, 1),\n",
              " (238, 1),\n",
              " (239, 1)]"
            ]
          },
          "metadata": {},
          "execution_count": 223
        }
      ]
    },
    {
      "cell_type": "code",
      "source": [],
      "metadata": {
        "id": "LOaxf4EkEMxe"
      },
      "execution_count": null,
      "outputs": []
    }
  ]
}