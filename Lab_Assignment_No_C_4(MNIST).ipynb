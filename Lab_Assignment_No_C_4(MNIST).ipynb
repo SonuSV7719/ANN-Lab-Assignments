{
  "nbformat": 4,
  "nbformat_minor": 0,
  "metadata": {
    "colab": {
      "provenance": []
    },
    "kernelspec": {
      "name": "python3",
      "display_name": "Python 3"
    },
    "language_info": {
      "name": "python"
    }
  },
  "cells": [
    {
      "cell_type": "code",
      "execution_count": 76,
      "metadata": {
        "id": "ZbSlVrsIp0fH"
      },
      "outputs": [],
      "source": [
        "import tensorflow as tf\n",
        "from tensorflow import keras\n",
        "from keras import Sequential\n",
        "from keras.layers import Dense, Dropout, Flatten\n",
        "import numpy as np\n",
        "import pandas as pd"
      ]
    },
    {
      "cell_type": "code",
      "source": [
        "(x_train, y_train), (x_test, y_test) = keras.datasets.mnist.load_data()"
      ],
      "metadata": {
        "id": "1w0KONmSqtRp"
      },
      "execution_count": 27,
      "outputs": []
    },
    {
      "cell_type": "code",
      "source": [
        "x_test.shape"
      ],
      "metadata": {
        "colab": {
          "base_uri": "https://localhost:8080/"
        },
        "id": "Fh8yV15eq2zd",
        "outputId": "de380150-b6ae-4b9e-dd4c-1bf10cc45e49"
      },
      "execution_count": 28,
      "outputs": [
        {
          "output_type": "execute_result",
          "data": {
            "text/plain": [
              "(10000, 28, 28)"
            ]
          },
          "metadata": {},
          "execution_count": 28
        }
      ]
    },
    {
      "cell_type": "code",
      "source": [
        "x_test[0][0].shape"
      ],
      "metadata": {
        "colab": {
          "base_uri": "https://localhost:8080/"
        },
        "id": "GZd4cUhnrg2s",
        "outputId": "248691bb-f40d-4f5d-a0fb-b20277460819"
      },
      "execution_count": 29,
      "outputs": [
        {
          "output_type": "execute_result",
          "data": {
            "text/plain": [
              "(28,)"
            ]
          },
          "metadata": {},
          "execution_count": 29
        }
      ]
    },
    {
      "cell_type": "code",
      "source": [
        "model = Sequential()\n",
        "model.add(Flatten(input_shape=(28,28)))\n",
        "model.add(Dense(128, activation='relu'))\n",
        "model.add(Dropout(0.2))\n",
        "model.add(Dense(10, activation='softmax'))"
      ],
      "metadata": {
        "id": "4yCBzXE1rW7C"
      },
      "execution_count": 30,
      "outputs": []
    },
    {
      "cell_type": "code",
      "source": [
        "from keras.utils import plot_model\n",
        "plot_model(model)"
      ],
      "metadata": {
        "colab": {
          "base_uri": "https://localhost:8080/",
          "height": 466
        },
        "id": "50wWFDC1rdHc",
        "outputId": "4d2fbe6e-b81b-4bc5-de0b-e80c0f74a04a"
      },
      "execution_count": 31,
      "outputs": [
        {
          "output_type": "execute_result",
          "data": {
            "image/png": "[encoded data removed]",
            "text/plain": [
              "<IPython.core.display.Image object>"
            ]
          },
          "metadata": {},
          "execution_count": 31
        }
      ]
    },
    {
      "cell_type": "code",
      "source": [
        "model.compile(optimizer='adam', loss='sparse_categorical_crossentropy', metrics=['accuracy'])"
      ],
      "metadata": {
        "id": "fHhGGhvbszv_"
      },
      "execution_count": 36,
      "outputs": []
    },
    {
      "cell_type": "code",
      "source": [
        "model.fit(x_train, y_train, epochs=20)"
      ],
      "metadata": {
        "colab": {
          "base_uri": "https://localhost:8080/"
        },
        "id": "OjRaHpuutWw8",
        "outputId": "e906db5d-9a3e-4267-f4aa-e710caf818bf"
      },
      "execution_count": 37,
      "outputs": [
        {
          "output_type": "stream",
          "name": "stdout",
          "text": [
            "Epoch 1/20\n",
            "1875/1875 [==============================] - 10s 5ms/step - loss: 2.4438 - accuracy: 0.7533\n",
            "Epoch 2/20\n",
            "1875/1875 [==============================] - 9s 5ms/step - loss: 0.5959 - accuracy: 0.8427\n",
            "Epoch 3/20\n",
            "1875/1875 [==============================] - 8s 4ms/step - loss: 0.4775 - accuracy: 0.8741\n",
            "Epoch 4/20\n",
            "1875/1875 [==============================] - 9s 5ms/step - loss: 0.4282 - accuracy: 0.8868\n",
            "Epoch 5/20\n",
            "1875/1875 [==============================] - 9s 5ms/step - loss: 0.3929 - accuracy: 0.8992\n",
            "Epoch 6/20\n",
            "1875/1875 [==============================] - 7s 4ms/step - loss: 0.3806 - accuracy: 0.9053\n",
            "Epoch 7/20\n",
            "1875/1875 [==============================] - 9s 5ms/step - loss: 0.3620 - accuracy: 0.9105\n",
            "Epoch 8/20\n",
            "1875/1875 [==============================] - 8s 4ms/step - loss: 0.3399 - accuracy: 0.9143\n",
            "Epoch 9/20\n",
            "1875/1875 [==============================] - 8s 4ms/step - loss: 0.3321 - accuracy: 0.9180\n",
            "Epoch 10/20\n",
            "1875/1875 [==============================] - 9s 5ms/step - loss: 0.3288 - accuracy: 0.9205\n",
            "Epoch 11/20\n",
            "1875/1875 [==============================] - 7s 4ms/step - loss: 0.3168 - accuracy: 0.9228\n",
            "Epoch 12/20\n",
            "1875/1875 [==============================] - 8s 4ms/step - loss: 0.3086 - accuracy: 0.9234\n",
            "Epoch 13/20\n",
            "1875/1875 [==============================] - 9s 5ms/step - loss: 0.3144 - accuracy: 0.9246\n",
            "Epoch 14/20\n",
            "1875/1875 [==============================] - 15s 8ms/step - loss: 0.2978 - accuracy: 0.9266\n",
            "Epoch 15/20\n",
            "1875/1875 [==============================] - 10s 5ms/step - loss: 0.3015 - accuracy: 0.9278\n",
            "Epoch 16/20\n",
            "1875/1875 [==============================] - 11s 6ms/step - loss: 0.2903 - accuracy: 0.9278\n",
            "Epoch 17/20\n",
            "1875/1875 [==============================] - 13s 7ms/step - loss: 0.2832 - accuracy: 0.9319\n",
            "Epoch 18/20\n",
            "1875/1875 [==============================] - 13s 7ms/step - loss: 0.2923 - accuracy: 0.9307\n",
            "Epoch 19/20\n",
            "1875/1875 [==============================] - 9s 5ms/step - loss: 0.2869 - accuracy: 0.9321\n",
            "Epoch 20/20\n",
            "1875/1875 [==============================] - 9s 5ms/step - loss: 0.2834 - accuracy: 0.9320\n"
          ]
        },
        {
          "output_type": "execute_result",
          "data": {
            "text/plain": [
              "<keras.callbacks.History at 0x7f2103559030>"
            ]
          },
          "metadata": {},
          "execution_count": 37
        }
      ]
    },
    {
      "cell_type": "code",
      "source": [
        "prediction = model.predict(x_test)"
      ],
      "metadata": {
        "colab": {
          "base_uri": "https://localhost:8080/"
        },
        "id": "DIhOtNx2urN5",
        "outputId": "a9aff894-8991-4c7f-d2e0-635f5e6c9f6e"
      },
      "execution_count": 44,
      "outputs": [
        {
          "output_type": "stream",
          "name": "stdout",
          "text": [
            "313/313 [==============================] - 1s 2ms/step\n"
          ]
        }
      ]
    },
    {
      "cell_type": "code",
      "source": [
        "prediction[3].shape"
      ],
      "metadata": {
        "colab": {
          "base_uri": "https://localhost:8080/"
        },
        "id": "W_U_bBYXvxgb",
        "outputId": "08da212e-29be-4026-bb95-c97070f52eec"
      },
      "execution_count": 49,
      "outputs": [
        {
          "output_type": "execute_result",
          "data": {
            "text/plain": [
              "(10,)"
            ]
          },
          "metadata": {},
          "execution_count": 49
        }
      ]
    },
    {
      "cell_type": "code",
      "source": [
        "x_test[0][0]"
      ],
      "metadata": {
        "colab": {
          "base_uri": "https://localhost:8080/"
        },
        "id": "FGQPopaXvfTm",
        "outputId": "03bab543-6e8a-45c7-8d9c-bb981dfbeb7a"
      },
      "execution_count": 42,
      "outputs": [
        {
          "output_type": "execute_result",
          "data": {
            "text/plain": [
              "array([0, 0, 0, 0, 0, 0, 0, 0, 0, 0, 0, 0, 0, 0, 0, 0, 0, 0, 0, 0, 0, 0,\n",
              "       0, 0, 0, 0, 0, 0], dtype=uint8)"
            ]
          },
          "metadata": {},
          "execution_count": 42
        }
      ]
    },
    {
      "cell_type": "code",
      "source": [
        "prediction[0]"
      ],
      "metadata": {
        "colab": {
          "base_uri": "https://localhost:8080/"
        },
        "id": "t0V4qg1Hvp83",
        "outputId": "fc0714e7-026b-40ab-b4cc-39980c3c6dbc"
      },
      "execution_count": 59,
      "outputs": [
        {
          "output_type": "execute_result",
          "data": {
            "text/plain": [
              "array([0.0000000e+00, 1.3933523e-19, 2.9269228e-15, 7.6539842e-12,\n",
              "       7.4557314e-31, 4.5651832e-31, 0.0000000e+00, 9.9999994e-01,\n",
              "       0.0000000e+00, 5.6528885e-29], dtype=float32)"
            ]
          },
          "metadata": {},
          "execution_count": 59
        }
      ]
    },
    {
      "cell_type": "code",
      "source": [
        "prediction[0][7]"
      ],
      "metadata": {
        "colab": {
          "base_uri": "https://localhost:8080/"
        },
        "id": "E7MmSyY0wRRL",
        "outputId": "9a0931ad-1749-4e07-9072-9d7d66470082"
      },
      "execution_count": 68,
      "outputs": [
        {
          "output_type": "execute_result",
          "data": {
            "text/plain": [
              "0.99999994"
            ]
          },
          "metadata": {},
          "execution_count": 68
        }
      ]
    },
    {
      "cell_type": "code",
      "source": [
        "prediction[1][1]"
      ],
      "metadata": {
        "colab": {
          "base_uri": "https://localhost:8080/"
        },
        "id": "Scz23Av8wbxf",
        "outputId": "4f4387b5-e4c2-4314-f736-8a73569ef555"
      },
      "execution_count": 71,
      "outputs": [
        {
          "output_type": "execute_result",
          "data": {
            "text/plain": [
              "9.435168e-11"
            ]
          },
          "metadata": {},
          "execution_count": 71
        }
      ]
    },
    {
      "cell_type": "code",
      "source": [
        "pd.Series(prediction[2]).idxmax()"
      ],
      "metadata": {
        "colab": {
          "base_uri": "https://localhost:8080/"
        },
        "id": "T3QjkKiWw9hZ",
        "outputId": "cd22e9f7-c4f9-4ac6-97f3-1b5cf81dfda6"
      },
      "execution_count": 78,
      "outputs": [
        {
          "output_type": "execute_result",
          "data": {
            "text/plain": [
              "1"
            ]
          },
          "metadata": {},
          "execution_count": 78
        }
      ]
    },
    {
      "cell_type": "code",
      "source": [
        "for i in range(10):\n",
        "  print(f\"Prediction of {prediction[i]} is \", pd.Series(prediction[i]).idxmax())"
      ],
      "metadata": {
        "colab": {
          "base_uri": "https://localhost:8080/"
        },
        "id": "_TjBMY0yxXK7",
        "outputId": "45813472-cf1e-48b4-f036-f75e552cdec4"
      },
      "execution_count": 82,
      "outputs": [
        {
          "output_type": "stream",
          "name": "stdout",
          "text": [
            "Prediction of [0.0000000e+00 1.3933523e-19 2.9269228e-15 7.6539842e-12 7.4557314e-31\n",
            " 4.5651832e-31 0.0000000e+00 9.9999994e-01 0.0000000e+00 5.6528885e-29] is  7\n",
            "Prediction of [0.0000000e+00 9.4351679e-11 9.9999994e-01 1.3839746e-21 0.0000000e+00\n",
            " 0.0000000e+00 0.0000000e+00 2.9035965e-19 2.7713451e-30 0.0000000e+00] is  2\n",
            "Prediction of [0.0000000e+00 9.9999994e-01 0.0000000e+00 0.0000000e+00 9.8192167e-27\n",
            " 8.6102357e-27 1.3392039e-24 6.7198263e-25 3.7141534e-19 0.0000000e+00] is  1\n",
            "Prediction of [9.99999940e-01 0.00000000e+00 3.97543002e-18 2.87898494e-15\n",
            " 4.17670492e-24 2.52059403e-17 4.16241627e-19 4.58924653e-15\n",
            " 8.97595410e-23 1.08165845e-29] is  0\n",
            "Prediction of [2.8448460e-23 1.3613716e-11 1.5544450e-14 2.5488617e-13 9.9999994e-01\n",
            " 2.5542689e-13 2.4306238e-10 1.3248903e-12 3.4214355e-23 2.7959052e-08] is  4\n",
            "Prediction of [0.0000000e+00 9.9999994e-01 0.0000000e+00 0.0000000e+00 2.3557797e-24\n",
            " 5.3822781e-25 7.0089274e-24 7.2132002e-25 1.9120865e-19 0.0000000e+00] is  1\n",
            "Prediction of [4.9079178e-32 3.3550220e-12 1.7724985e-10 8.9461727e-17 9.9999994e-01\n",
            " 6.9597727e-16 2.2915382e-23 1.8836836e-13 1.2865342e-32 6.4851630e-10] is  4\n",
            "Prediction of [6.5651999e-14 1.0212370e-12 4.1792095e-08 2.0033461e-03 2.7078322e-05\n",
            " 9.8896944e-06 2.2923856e-31 2.4588793e-04 1.6237841e-13 9.9771374e-01] is  9\n",
            "Prediction of [1.9678354e-04 2.5814313e-06 6.8850612e-05 5.4609153e-04 1.9435544e-09\n",
            " 5.3101850e-01 4.3385461e-01 9.2009661e-10 2.9303946e-02 5.0086309e-03] is  5\n",
            "Prediction of [8.8292691e-37 9.5649813e-14 4.9173587e-15 2.1960420e-09 8.8311272e-06\n",
            " 3.7559491e-12 2.3588077e-30 1.2012749e-05 1.6326638e-16 9.9997908e-01] is  9\n"
          ]
        }
      ]
    },
    {
      "cell_type": "code",
      "source": [
        "loss, accuracy = model.evaluate(x_test, y_test)"
      ],
      "metadata": {
        "colab": {
          "base_uri": "https://localhost:8080/"
        },
        "id": "SYABlRl-x0JL",
        "outputId": "d09aa226-946b-43cc-e234-2b56358975b4"
      },
      "execution_count": 87,
      "outputs": [
        {
          "output_type": "stream",
          "name": "stdout",
          "text": [
            "313/313 [==============================] - 1s 3ms/step - loss: 0.3086 - accuracy: 0.9480\n"
          ]
        }
      ]
    },
    {
      "cell_type": "code",
      "source": [
        "print(f\"Loss of model is {loss} and accuracy of model is {accuracy}\")"
      ],
      "metadata": {
        "colab": {
          "base_uri": "https://localhost:8080/"
        },
        "id": "v2-4uagQyQ2P",
        "outputId": "4826f74e-4086-42a2-b7f8-fa98a03ae585"
      },
      "execution_count": 88,
      "outputs": [
        {
          "output_type": "stream",
          "name": "stdout",
          "text": [
            "Loss of model is 0.3086441457271576 and accuracy of model is 0.9480000138282776\n"
          ]
        }
      ]
    },
    {
      "cell_type": "code",
      "source": [],
      "metadata": {
        "id": "xsd-bBZOyxO2"
      },
      "execution_count": null,
      "outputs": []
    }
  ]
}