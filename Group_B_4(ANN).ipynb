{
  "nbformat": 4,
  "nbformat_minor": 0,
  "metadata": {
    "colab": {
      "provenance": []
    },
    "kernelspec": {
      "name": "python3",
      "display_name": "Python 3"
    },
    "language_info": {
      "name": "python"
    }
  },
  "cells": [
    {
      "cell_type": "markdown",
      "source": [
        "Q1. Write a python program to design a Hopfield Network which stores 4 vectors"
      ],
      "metadata": {
        "id": "lO-i0knzoLbM"
      }
    },
    {
      "cell_type": "code",
      "execution_count": 4,
      "metadata": {
        "id": "j76OJPBRnB02"
      },
      "outputs": [],
      "source": [
        "import numpy as np\n",
        "\n",
        "class HopfieldNetwork:\n",
        "    def __init__(self, num_neurons):\n",
        "        self.num_neurons = num_neurons\n",
        "        self.weights = np.zeros((num_neurons, num_neurons))\n",
        "\n",
        "    def train(self, vectors):\n",
        "        num_vectors = len(vectors)\n",
        "        for vector in vectors:\n",
        "            vector = np.reshape(vector, (self.num_neurons, 1))\n",
        "            self.weights += np.dot(vector, vector.T) / num_vectors\n",
        "            np.fill_diagonal(self.weights, 0)\n",
        "\n",
        "    def recall(self, input_vector, max_iter=100):\n",
        "        output_vector = np.copy(input_vector)\n",
        "        for _ in range(max_iter):\n",
        "            prev_output = np.copy(output_vector)\n",
        "            output_vector = np.sign(np.dot(self.weights, output_vector))\n",
        "            if np.array_equal(output_vector, prev_output):\n",
        "                break\n",
        "        return output_vector\n"
      ]
    },
    {
      "cell_type": "code",
      "source": [
        "network = HopfieldNetwork(4)\n",
        "\n",
        "vectors = np.array([[1, 1, 1, 1],\n",
        "                    [1, -1, 1, -1],\n",
        "                    [-1, 1, -1, 1],\n",
        "                    [-1, -1, -1, -1]])\n",
        "\n",
        "\n",
        "network.train(vectors)\n",
        "\n",
        "for vector in vectors:\n",
        "    output = network.recall(vector)\n",
        "    print(\"Input:\", vector)\n",
        "    print(\"Output:\", output)\n",
        "    print()\n"
      ],
      "metadata": {
        "colab": {
          "base_uri": "https://localhost:8080/"
        },
        "id": "qG4vqs39ofSu",
        "outputId": "7f276a27-8c7a-4b5b-ca00-6d299ea68913"
      },
      "execution_count": 6,
      "outputs": [
        {
          "output_type": "stream",
          "name": "stdout",
          "text": [
            "Input: [1 1 1 1]\n",
            "Output: [1. 1. 1. 1.]\n",
            "\n",
            "Input: [ 1 -1  1 -1]\n",
            "Output: [ 1. -1.  1. -1.]\n",
            "\n",
            "Input: [-1  1 -1  1]\n",
            "Output: [-1.  1. -1.  1.]\n",
            "\n",
            "Input: [-1 -1 -1 -1]\n",
            "Output: [-1. -1. -1. -1.]\n",
            "\n"
          ]
        }
      ]
    }
  ]
}